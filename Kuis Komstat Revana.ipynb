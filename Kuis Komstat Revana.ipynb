{
 "cells": [
  {
   "cell_type": "raw",
   "id": "6e72b59a-9bcb-4770-963f-9333b16b737b",
   "metadata": {},
   "source": [
    "Nama : Revana Moza Hendriani\n",
    "NRP : 5003221009\n",
    "Komputasi Statistika A"
   ]
  },
  {
   "cell_type": "raw",
   "id": "611e6d09-d377-4db2-b2a1-8f978d62bd73",
   "metadata": {},
   "source": [
    "Nomor 1"
   ]
  },
  {
   "cell_type": "code",
   "execution_count": 11,
   "id": "4236cca9-88e6-40e6-818c-45a08d863609",
   "metadata": {
    "tags": []
   },
   "outputs": [
    {
     "name": "stdout",
     "output_type": "stream",
     "text": [
      "a.  [ 9.97575515 14.572622   13.76517252 10.45575354  6.42880534  6.55874447\n",
      "  8.80083375 14.00949972 10.73232415  4.50918972 16.05794389 22.82286627\n",
      " 10.72986058  8.51824262 10.50120131  9.44142603  9.36516137  8.53384888\n",
      " 18.51337137  5.27275376  8.06819221  7.56076218 10.92946359  6.45680738\n",
      "  8.33459488  8.80045093 11.81062209 14.95416984  3.65125191 20.27976572\n",
      "  4.13485597  4.81281183  9.31487692 10.1674603  10.78552912  3.01464796\n",
      " 17.1994922   0.26595619  3.95334291  4.65978195 15.53620899 12.85429408\n",
      "  3.73184525 11.12987423 11.47926838 14.92704085  9.93323867 12.0224142\n",
      " 10.30838803  4.2013265 ]\n",
      "\n",
      "\n",
      "a.  [21.53289654 23.36272143 20.65602398 18.43480003 19.17366791 19.46349918\n",
      " 15.88722691 29.85123273 18.23987994 25.4061342  13.29129944 16.56722254\n",
      " 14.80299873 14.92263717 15.57995372  7.49965175 12.95218058 21.59492661\n",
      " 23.54687516 22.36404671 13.91634313 16.12467817 23.77378249 13.02709204\n",
      " 17.55452447 22.98069576 15.0169689  30.97328864 21.68217908 14.92909088]\n",
      "\n",
      "\n"
     ]
    }
   ],
   "source": [
    "import numpy as np\n",
    "\n",
    "def generate_normal_distribution(mean, std_dev, size):\n",
    "    data_yang_dihasilkan   = np.random.normal(mean, std_dev, size)\n",
    "    return data_yang_dihasilkan \n",
    "\n",
    "#a. Membangkitkan A~N(10,5) sebanyak 50\n",
    "result_A= generate_normal_distribution(10, 5, 50)\n",
    "print(\"a. \", result_A)\n",
    "print(\"\\n\")\n",
    "#b. Membangkitkan 𝐵~𝑁(1 ∗ ,5) sebanyak 30 (* adalah angka terakhir di NRP)\n",
    "#angka terakhir NRP = 9\n",
    "result_B= generate_normal_distribution(19, 5, 30)\n",
    "print(\"a. \", result_B)\n",
    "print(\"\\n\")"
   ]
  },
  {
   "cell_type": "code",
   "execution_count": 14,
   "id": "7a37c61c-7b28-4aa2-b9a8-700fb0a0afc2",
   "metadata": {
    "tags": []
   },
   "outputs": [
    {
     "name": "stdout",
     "output_type": "stream",
     "text": [
      "T statistic: -16.590838426141786\n",
      "Degrees of freedom: 78\n",
      "P-value: 0.0\n",
      "\n",
      "Kesimpulan: Terdapat perbedaan signifikan antara rata-rata kedua data.\n"
     ]
    }
   ],
   "source": [
    "#c. Menguji kesamaan rata-rata antara A dan B\n",
    "from scipy.stats import t\n",
    "import numpy as np\n",
    "\n",
    "def independent_t_test(result_A, result_B, equal_var=True):  #artinya: rata rata kedua sampel sama atau tidak?\n",
    "    n1 = len(result_A)\n",
    "    n2 = len(result_B)\n",
    "    x_bar1 = np.mean(result_A)\n",
    "    x_bar2 = np.mean(result_B)\n",
    "    if equal_var:\n",
    "        s_pooled = np.sqrt(((n1 - 1) * np.var(result_A) + (n2 - 1) * np.var(result_B)) / (n1 + n2 - 2)) #u/ var sama\n",
    "    else:\n",
    "        s1 = np.sqrt(np.var(result_A))\n",
    "        s2 = np.sqrt(np.var(result_B))\n",
    "        s_pooled = np.sqrt(((n1 - 1) * s1**2 + (n2 - 1) * s2**2) / (n1 + n2 - 2)) #u/ var beda\n",
    "            \n",
    "    t_statistic = (x_bar1 - x_bar2) / (s_pooled / np.sqrt(n1 + n2))\n",
    "    df = n1 + n2 - 2 #u/independen ini sampelnya dari 2 kelompok sprt. kelas A dan kelas B, jadi ditambahkan dulu semua sampelnya lalu dikurangi jml kelompok\n",
    "\n",
    "    return t_statistic, df\n",
    "\n",
    "def calculate_p_value(t_statistic, df, two_tailed=True):\n",
    "    p_value = 2 * (1 - t.cdf(abs(t_statistic), df)) if two_tailed else 1 - t.cdf(abs(t_statistic), df)\n",
    "    \n",
    "    return p_value\n",
    "\n",
    "t_statistic, df = independent_t_test(result_A, result_B)\n",
    "p_value = calculate_p_value(t_statistic, df)\n",
    "\n",
    "print(\"T statistic:\", t_statistic)\n",
    "print(\"Degrees of freedom:\", df)\n",
    "print(\"P-value:\", p_value)\n",
    "\n",
    "alpha = 0.05\n",
    "if p_value < alpha:\n",
    "    print(\"\\nKesimpulan: Terdapat perbedaan signifikan antara rata-rata kedua data.\")\n",
    "else:\n",
    "    print(\"\\nKesimpulan: Tidak terdapat perbedaan signifikan antara rata-rata kedua data.\")\n",
    "    \n"
   ]
  },
  {
   "cell_type": "code",
   "execution_count": 15,
   "id": "1a5e8f22-c7f4-40ac-abe8-b1a217336c3d",
   "metadata": {
    "tags": []
   },
   "outputs": [
    {
     "name": "stdout",
     "output_type": "stream",
     "text": [
      "     0     1     2\n",
      "0   95  76.0  86.0\n",
      "1   86  69.0  39.0\n",
      "2   76  78.0  82.0\n",
      "3   78  82.0  75.0\n",
      "4   87  90.0  19.0\n",
      "5   81  56.0   9.0\n",
      "6  100   NaN  26.0\n",
      "7    9   NaN   NaN\n"
     ]
    }
   ],
   "source": [
    "import numpy as np\n",
    "import pandas as pd\n",
    "\n",
    "data1 = pd.read_excel('data kuis.xlsx', sheet_name='Sheet1', header = None)\n",
    "print(data1)"
   ]
  },
  {
   "cell_type": "raw",
   "id": "54faa93f-b5af-46e5-84a2-f6b5d64f5a0d",
   "metadata": {},
   "source": [
    "Nomor 2"
   ]
  },
  {
   "cell_type": "code",
   "execution_count": 20,
   "id": "64288ea6-57bd-48c5-8811-ac5060b25a90",
   "metadata": {
    "tags": []
   },
   "outputs": [
    {
     "name": "stdout",
     "output_type": "stream",
     "text": [
      "Nilai X:\n",
      "[86. 39. 82. 75. 19.  9. 26.  0.]\n",
      "\n",
      "Nilai Y:\n",
      "[ 95  86  76  78  87  81 100   9]\n",
      "\n",
      "Nilai Z:\n",
      "[76. 69. 78. 82. 90. 56.  0.  0.]\n"
     ]
    }
   ],
   "source": [
    "X = np.array(data1.iloc[:, -1])\n",
    "Y = np.array(data1.iloc[:, 0]) \n",
    "Z = np.array(data1.iloc[:, 1])\n",
    "\n",
    "#mengubah NaN ke nilai 0 agar dapat menghasilkan nilai t stat dan p value pada uji independent t test\n",
    "X[np.isnan(X)] = 0\n",
    "Y[np.isnan(Y)] = 0\n",
    "Z[np.isnan(Z)] = 0\n",
    "\n",
    "print(\"Nilai X:\")\n",
    "print(X)\n",
    "\n",
    "print(\"\\nNilai Y:\")\n",
    "print(Y)\n",
    "\n",
    "print(\"\\nNilai Z:\")\n",
    "print(Z)"
   ]
  },
  {
   "cell_type": "code",
   "execution_count": 22,
   "id": "dc60fa83-74ac-46e3-8ff0-33d0ceaf4eae",
   "metadata": {
    "tags": []
   },
   "outputs": [
    {
     "name": "stdout",
     "output_type": "stream",
     "text": [
      "T statistic: -5.447618950321652\n",
      "Degrees of freedom: 21\n",
      "P-value: 2.0996828458796912e-05\n",
      "\n",
      "Kesimpulan: Terdapat perbedaan signifikan antara rata-rata kelompok 1, 2, dan 3.\n"
     ]
    }
   ],
   "source": [
    "from scipy.stats import t\n",
    "import numpy as np\n",
    "\n",
    "def independent_t_test(X, Y, Z, equal_var=True):  #artinya: rata rata ketiga sampel sama atau tidak?\n",
    "    n1 = len(X)\n",
    "    n2 = len(Y)\n",
    "    n3 = len(Z)\n",
    "    x_bar1 = np.mean(X)\n",
    "    x_bar2 = np.mean(Y)\n",
    "    x_bar3 = np.mean(Z)\n",
    "    if equal_var:\n",
    "        s_pooled = np.sqrt(((n1 - 1) * np.var(X) + (n2 - 1) * np.var(Y) + (n3 - 1) * np.var(Z)) / (n1 + n2 + n3 - 3)) #u/ var sama\n",
    "    else:\n",
    "        s1 = np.sqrt(np.var(X))\n",
    "        s2 = np.sqrt(np.var(Y))\n",
    "        s2 = np.sqrt(np.var(Z))\n",
    "        s_pooled = np.sqrt(((n1 - 1) * s1**2 + (n2 - 1) * s2**2 + (n3 - 1) * s3**2 ) / (n1 + n2 + n3 - 2)) #u/ var beda\n",
    "            \n",
    "    t_statistic = (x_bar1 - x_bar2) / (s_pooled / np.sqrt(n1 + n2 + n3))\n",
    "    df = n1 + n2 + n3 - 3\n",
    "\n",
    "    return t_statistic, df\n",
    "\n",
    "def calculate_p_value(t_statistic, df, two_tailed=True):\n",
    "    p_value = 2 * (1 - t.cdf(abs(t_statistic), df)) if two_tailed else 1 - t.cdf(abs(t_statistic), df)\n",
    "    \n",
    "    return p_value\n",
    "\n",
    "t_statistic, df = independent_t_test(X, Y, Z)\n",
    "p_value = calculate_p_value(t_statistic, df)\n",
    "\n",
    "print(\"T statistic:\", t_statistic)\n",
    "print(\"Degrees of freedom:\", df)\n",
    "print(\"P-value:\", p_value)\n",
    "\n",
    "alpha = 0.05\n",
    "if p_value < alpha:\n",
    "    print(\"\\nKesimpulan: Terdapat perbedaan signifikan antara rata-rata kelompok 1, 2, dan 3.\")\n",
    "else:\n",
    "    print(\"\\nKesimpulan: Tidak terdapat perbedaan signifikan antara rata-rata kelompok 1, 2, dan 3.\")"
   ]
  },
  {
   "cell_type": "raw",
   "id": "61b397fb-4bd3-44fd-afb6-05c10109745e",
   "metadata": {
    "tags": []
   },
   "source": [
    "Nomor 3"
   ]
  },
  {
   "cell_type": "code",
   "execution_count": 24,
   "id": "4e59e87c-8fb5-47b0-bce7-8095e85e02eb",
   "metadata": {
    "tags": []
   },
   "outputs": [
    {
     "name": "stdout",
     "output_type": "stream",
     "text": [
      "      0\n",
      "0    95\n",
      "1    86\n",
      "2    76\n",
      "3    78\n",
      "4    87\n",
      "5    81\n",
      "6   100\n",
      "7     9\n",
      "8    76\n",
      "9    69\n",
      "10   78\n",
      "11   82\n",
      "12   90\n",
      "13   56\n",
      "14   86\n",
      "15   39\n",
      "16   82\n",
      "17   75\n",
      "18   19\n",
      "19    9\n",
      "20   26\n"
     ]
    }
   ],
   "source": [
    "import numpy as np\n",
    "import pandas as pd\n",
    "\n",
    "data = pd.read_excel('data kuis 2.xlsx', sheet_name='Sheet1', header = None)\n",
    "print(data)"
   ]
  },
  {
   "cell_type": "code",
   "execution_count": 28,
   "id": "c395f517-7c45-4166-ab58-aed850e1024b",
   "metadata": {
    "tags": []
   },
   "outputs": [
    {
     "name": "stdout",
     "output_type": "stream",
     "text": [
      "Data Variabel Nilai:\n",
      "[ 95  86  76  78  87  81 100   9  76  69  78  82  90  56  86  39  82  75\n",
      "  19   9  26]\n"
     ]
    }
   ],
   "source": [
    "Nilai = np.array(data.iloc[:, -1])\n",
    "print(\"Data Variabel Nilai:\")\n",
    "print(Nilai)"
   ]
  },
  {
   "cell_type": "code",
   "execution_count": 32,
   "id": "00a75af2-34b2-4e05-a304-1ef345f612d5",
   "metadata": {
    "tags": []
   },
   "outputs": [
    {
     "name": "stdout",
     "output_type": "stream",
     "text": [
      "Terdapat pengamatan inner outlier pada data variabel Nilai :  (False, False)\n"
     ]
    }
   ],
   "source": [
    "import numpy as np\n",
    "\n",
    "def is_inner_outlier(Nilai):\n",
    "    # Menghitung Q1, Q3, dan IQR\n",
    "    q1 = np.percentile(Nilai, 25)\n",
    "    q3 = np.percentile(Nilai, 75)\n",
    "    iqr = q3 - q1\n",
    "\n",
    "    # Mengecek apakah terdapat pengamatan inner outlier\n",
    "    inner_outlier_1 = any((q3 + 1.5 * iqr < x < q3 + 3 * iqr) for x in Nilai)\n",
    "    inner_outlier_2 = any((q1 + 3 * iqr < x < q1 + 1.5 * iqr) for x in Nilai)\n",
    "    return inner_outlier_1, inner_outlier_2\n",
    "\n",
    "# Memanggil fungsi untuk mendeteksi inner outlier\n",
    "hasil_deteksi = is_inner_outlier(Nilai)\n",
    "\n",
    "# Menampilkan hasil deteksi\n",
    "if hasil_deteksi:\n",
    "    print(\"Terdapat pengamatan inner outlier pada data variabel Nilai : \")\n",
    "else:\n",
    "    print(\"Tidak terdapat pengamatan inner outlier pada data variabel Nilai.\")\n",
    "\n"
   ]
  },
  {
   "cell_type": "code",
   "execution_count": null,
   "id": "87e0b0ae-9afd-4c39-912a-4de4e786fbf4",
   "metadata": {},
   "outputs": [],
   "source": []
  }
 ],
 "metadata": {
  "kernelspec": {
   "display_name": "Python 3 (ipykernel)",
   "language": "python",
   "name": "python3"
  },
  "language_info": {
   "codemirror_mode": {
    "name": "ipython",
    "version": 3
   },
   "file_extension": ".py",
   "mimetype": "text/x-python",
   "name": "python",
   "nbconvert_exporter": "python",
   "pygments_lexer": "ipython3",
   "version": "3.11.5"
  }
 },
 "nbformat": 4,
 "nbformat_minor": 5
}
